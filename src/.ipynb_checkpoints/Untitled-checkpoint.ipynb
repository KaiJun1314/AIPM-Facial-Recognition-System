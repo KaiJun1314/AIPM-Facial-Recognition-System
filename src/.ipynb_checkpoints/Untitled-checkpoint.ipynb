{
 "cells": [
  {
   "cell_type": "code",
   "execution_count": 12,
   "id": "acc2e9ea",
   "metadata": {},
   "outputs": [],
   "source": [
    "# example of face detection with mtcnn\n",
    "from matplotlib import pyplot\n",
    "from PIL import Image\n",
    "from numpy import asarray\n",
    "from mtcnn.mtcnn import MTCNN"
   ]
  },
  {
   "cell_type": "code",
   "execution_count": 17,
   "id": "6e68e1fa",
   "metadata": {},
   "outputs": [],
   "source": [
    "def extract_face(filename, required_size=(224, 224)):\n",
    "\t# load image from file\n",
    "\tpixels = pyplot.imread(filename)\n",
    "\t# create the detector, using default weights\n",
    "\tdetector = MTCNN()\n",
    "\ttry: \n",
    "\t\t# detect faces in the image\n",
    "\t\tresults = detector.detect_faces(pixels)\n",
    "\t\t# extract the bounding box from the first face\n",
    "\t\tx1, y1, width, height = results[0]['box']\n",
    "\texcept:\n",
    "\t\treturn None\n",
    "\t\n",
    "\tx2, y2 = x1 + width, y1 + height\n",
    "\t# extract the face\n",
    "\tface = pixels[y1:y2, x1:x2]\n",
    "\t# resize pixels to the model size\n",
    "\timage = Image.fromarray(face)\n",
    "\timage = image.resize(required_size)\n",
    "\tface_array = asarray(image)\n",
    "\treturn face_array"
   ]
  },
  {
   "cell_type": "code",
   "execution_count": 18,
   "id": "b599e7f9",
   "metadata": {},
   "outputs": [
    {
     "name": "stdout",
     "output_type": "stream",
     "text": [
      "1/1 [==============================] - 0s 142ms/step\n",
      "1/1 [==============================] - 0s 120ms/step\n",
      "1/1 [==============================] - 0s 39ms/step\n",
      "1/1 [==============================] - 0s 27ms/step\n",
      "1/1 [==============================] - 0s 29ms/step\n",
      "1/1 [==============================] - 0s 24ms/step\n",
      "1/1 [==============================] - 0s 23ms/step\n",
      "1/1 [==============================] - 0s 25ms/step\n",
      "1/1 [==============================] - 0s 24ms/step\n",
      "1/1 [==============================] - 0s 23ms/step\n",
      "1/1 [==============================] - 0s 127ms/step\n",
      "No Face Detected\n"
     ]
    }
   ],
   "source": [
    "pixels = extract_face('hello.jpg')\n",
    "if pixels != None:\n",
    "    pyplot.imshow(pixels)\n",
    "    pyplot.show()\n",
    "else:\n",
    "    print(\"No Face Detected\")"
   ]
  },
  {
   "cell_type": "code",
   "execution_count": null,
   "id": "9aeb16b6",
   "metadata": {},
   "outputs": [],
   "source": []
  },
  {
   "cell_type": "code",
   "execution_count": null,
   "id": "1c2405d5",
   "metadata": {},
   "outputs": [],
   "source": []
  }
 ],
 "metadata": {
  "kernelspec": {
   "display_name": "Python 3 (ipykernel)",
   "language": "python",
   "name": "python3"
  },
  "language_info": {
   "codemirror_mode": {
    "name": "ipython",
    "version": 3
   },
   "file_extension": ".py",
   "mimetype": "text/x-python",
   "name": "python",
   "nbconvert_exporter": "python",
   "pygments_lexer": "ipython3",
   "version": "3.10.3"
  }
 },
 "nbformat": 4,
 "nbformat_minor": 5
}
